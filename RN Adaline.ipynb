{
 "cells": [
  {
   "cell_type": "markdown",
   "metadata": {},
   "source": [
    "# Red Adaline\n",
    "## Universidad Politecnica Salesiana\n",
    "### Pedro Loja\n",
    "\n",
    "<p align=\"justify\">\n",
    "    La Red Adaline fue desarrollada en el 1960 por Bernard Widrow y su estudiante Marcian Hoff de la universidad de Stanford.\n",
    "</p>\n",
    "<p>\n",
    "    Adaline proviene del ingles Adaptative Lineal Element que quiere decir (Elemento Lineal Adaptativo) la cual es un dispositivo que consta de un unico elemento de procesamiento, por lo cual no se le considera como una red neuronal.\n",
    "</p>"
   ]
  },
  {
   "cell_type": "markdown",
   "metadata": {},
   "source": [
    "* **Caracteristicas**\n",
    "\n",
    "    - Son similares al Perceptron con la particularidad de que la funcion de activacion es una funcion lineal.\n",
    "    - Este tipo de red presenta la misma limitacion que las del perceptron ya que solo puede resolver problemas linealmente separables\n",
    "    - Son redes de aprendizaje supervisado que  usan la regla de Widrow – Hoff para dicho aprendizaje o también denominada regla Delta\n",
    "    - Adaline está limitada a una única neurona de salida, un  vector x como su entrada y un número real y como su salida."
   ]
  },
  {
   "attachments": {},
   "cell_type": "markdown",
   "metadata": {},
   "source": [
    "* **Arquitectura**\n",
    "\n",
    "\n",
    "    - Formada por un elemento denominado: Combinador Adaptativo Lineal (ALC).\n",
    "    - La salida lineal obtenida del ALC se aplica a un Conmutador Bipolar.\n",
    "    - El Umbral de la F. de T. se representa a través de una conexión ficticia de peso Wo (b).\n",
    "\n",
    "<img src=\"adaline.jpg\">\n",
    "\n",
    "* **Regla de Aprendizaje:**\n",
    "\n",
    "    1. Inicializar los pesos en forma aleatoria.\n",
    "    2. Introducir un patrón de entrada.\n",
    "    3. Calcular la  salida, compararla con la deseada y obtener la diferencia.\n",
    "    4. Multiplicar el resultado del paso anterior por la entrada correspondiente a cada uno de los pesos  y ponderarla por la tasa de aprendizaje.\n",
    "    5. Actualizar los pesos, sumando al valor antiguo la cantidad obtenida en el paso anterior.\n",
    "    6. Si no se ha cumplido el criterio de parada, regresar al paso 2, si se ha acabado todos los  patrones repetir el algoritmo.\n",
    "    \n",
    "    \n",
    "* **Criterios de parada:**\n",
    "\n",
    "    - Criterio 1: Fijar un número de ciclos máximo. Dicho número debe garantizar que el error cuadrático para los patrones de entrenamiento se haya estabilizado.\n",
    "    - Criterio 2: Cuando el error cuadrático sobre los patrones de entrenamiento no cambia durante x ciclos.\n",
    "    - Criterio 3: Cuando el error cuadrático sobre los patrones de validación no aumenta o se mantiene estable a lo largo de x ciclos."
   ]
  },
  {
   "cell_type": "markdown",
   "metadata": {},
   "source": [
    "<h3><center>Ejemplo</center></h3>\n",
    "\n",
    "Diseñe una red neuronal adaline para que realice la funcion AND\n",
    "\n",
    "| p1 | p2 | a | ${ a }_{ 1 }$ |\n",
    "|:--:|:--:|---|---------|\n",
    "|  0 |  0 | 0 | -1      |\n",
    "|  0 |  1 | 0 | -1      |\n",
    "| 1  | 0  | 0 | -1      |\n",
    "| 1  | 1  | 1 | 1       |\n",
    "\n",
    "Primero hallamos la matriz R\n",
    "\n",
    "$R=E\\left[ { zz }^{ T } \\right] =\\frac { 1 }{ Q } \\sum _{ q=1 }^{ Q }{ { z }_{ q } } { z }_{ q }^{ T }$\n",
    "\n",
    "<br>\n",
    "$R=\\frac { 1 }{ 4 } \\left( \\left[ \\begin{matrix} 0 \\\\ 0 \\\\ 1 \\end{matrix} \\right] { \\left[ \\begin{matrix} 0 \\\\ 0 \\\\ 1 \\end{matrix} \\right]  }^{ T }+\\left[ \\begin{matrix} 0 \\\\ 1 \\\\ 1 \\end{matrix} \\right] { \\left[ \\begin{matrix} 0 \\\\ 1 \\\\ 1 \\end{matrix} \\right]  }^{ T }+\\left[ \\begin{matrix} 1 \\\\ 0 \\\\ 1 \\end{matrix} \\right] { \\left[ \\begin{matrix} 1 \\\\ 0 \\\\ 1 \\end{matrix} \\right]  }^{ T }+\\left[ \\begin{matrix} 1 \\\\ 1 \\\\ 1 \\end{matrix} \\right] { \\left[ \\begin{matrix} 1 \\\\ 1 \\\\ 1 \\end{matrix} \\right]  }^{ T } \\right)$\n",
    "\n",
    "<br>\n",
    "$R=\\frac { 1 }{ 4 } \\left[ \\begin{matrix} 2 & 1 & 2 \\\\ 1 & 2 & 2 \\\\ 2 & 2 & 4 \\end{matrix} \\right]$\n",
    "\n",
    "<br>\n",
    "${ h }_{ 1 }=E\\left[ tz \\right] =\\frac { 1 }{ Q } \\sum _{ q=1 }^{ Q }{ { t }_{ q }{ z }_{ q } } =\\frac { 1 }{ 4 } \\left( 0\\left[ \\begin{matrix} 0 \\\\ 0 \\\\ 1 \\end{matrix} \\right] +0\\left[ \\begin{matrix} 0 \\\\ 1 \\\\ 1 \\end{matrix} \\right] +0\\left[ \\begin{matrix} 1 \\\\ 0 \\\\ 1 \\end{matrix} \\right] +1\\left[ \\begin{matrix} 1 \\\\ 1 \\\\ 1 \\end{matrix} \\right]  \\right) =\\frac { 1 }{ 4 } \\left[ \\begin{matrix} 1 \\\\ 1 \\\\ 1 \\end{matrix} \\right]$\n",
    "\n",
    "<br>\n",
    "${ h }_{ 2 }=E\\left[ tz \\right] =\\frac { 1 }{ Q } \\sum _{ q=1 }^{ Q }{ { t }_{ q }{ z }_{ q } } =\\frac { 1 }{ 4 } \\left( -1\\left[ \\begin{matrix} 0 \\\\ 0 \\\\ 1 \\end{matrix} \\right] -1\\left[ \\begin{matrix} 0 \\\\ 1 \\\\ 1 \\end{matrix} \\right] -1\\left[ \\begin{matrix} 1 \\\\ 0 \\\\ 1 \\end{matrix} \\right] +1\\left[ \\begin{matrix} 1 \\\\ 1 \\\\ 1 \\end{matrix} \\right]  \\right) =\\frac { 1 }{ 4 } \\left[ \\begin{matrix} 0 \\\\ 0 \\\\ -2 \\end{matrix} \\right]$\n",
    "\n",
    "<br>\n",
    "${ x }_{ 1 }={ R }^{ -1 }{ h }_{ 1 }=\\left[ \\begin{matrix} 0.5 \\\\ 0.5 \\\\ -0.25 \\end{matrix} \\right] \\\\ { x }2={ R }^{ -1 }{ h }_{ 2 }=\\left[ \\begin{matrix} 1 \\\\ 1 \\\\ -1.5 \\end{matrix} \\right]$"
   ]
  },
  {
   "cell_type": "code",
   "execution_count": 2,
   "metadata": {},
   "outputs": [
    {
     "data": {
      "image/png": "[encoded data removed]",
      "text/plain": [
       "<Figure size 432x288 with 1 Axes>"
      ]
     },
     "metadata": {
      "needs_background": "light"
     },
     "output_type": "display_data"
    }
   ],
   "source": [
    "import matplotlib.pyplot as pp\n",
    "pp.plot(0,0,marker='o', color='blue')\n",
    "pp.plot(0,1,marker='o',color='blue')\n",
    "pp.plot(1,0,marker='o',color='blue')\n",
    "pp.plot(1,1,marker='o',color='red')\n",
    "\n",
    "x=[0,0.5]\n",
    "x1=[0.5,0]\n",
    "\n",
    "pp.plot(x,x1)\n",
    "\n",
    "pp.show()"
   ]
  },
  {
   "cell_type": "code",
   "execution_count": 3,
   "metadata": {},
   "outputs": [
    {
     "data": {
      "image/png": "[encoded data removed]",
      "text/plain": [
       "<Figure size 432x288 with 1 Axes>"
      ]
     },
     "metadata": {
      "needs_background": "light"
     },
     "output_type": "display_data"
    }
   ],
   "source": [
    "import matplotlib.pyplot as pp\n",
    "pp.plot(0,0,marker='o', color='blue')\n",
    "pp.plot(0,1,marker='o',color='blue')\n",
    "pp.plot(1,0,marker='o',color='blue')\n",
    "pp.plot(1,1,marker='o',color='red')\n",
    "\n",
    "x=[0.5,1]\n",
    "x1=[1,0.5]\n",
    "\n",
    "pp.plot(x,x1)\n",
    "\n",
    "pp.show()"
   ]
  },
  {
   "cell_type": "markdown",
   "metadata": {},
   "source": [
    "<h3>Bibliografia</h3>\n",
    "\n",
    "http://dianainteligenciaartificial.blogspot.com/2015/07/red-adaline.html\n",
    "<br>\n",
    "https://es.slideshare.net/mentelibre/redes-neuronales-adaline\n",
    "<br>\n",
    "https://thales.cica.es/rd/Recursos/rd98/TecInfo/07/capitulo4.html\n",
    "<br>\n",
    "https://www.youtube.com/watch?v=GKkWg8izusk\n",
    "<br>\n",
    "https://www.researchgate.net/figure/Figura-46-Estructura-de-la-red-ADALINE_fig9_304349022\n",
    "<br>\n",
    "http://trmaestrochang.blogspot.com/2015/07/red-adaline.html\n",
    "<br>\n",
    "https://slideplayer.es/slide/10571950/release/woothee"
   ]
  }
 ],
 "metadata": {
  "kernelspec": {
   "display_name": "Python 3.7 simpy",
   "language": "python",
   "name": "simulacion"
  },
  "language_info": {
   "codemirror_mode": {
    "name": "ipython",
    "version": 3
   },
   "file_extension": ".py",
   "mimetype": "text/x-python",
   "name": "python",
   "nbconvert_exporter": "python",
   "pygments_lexer": "ipython3",
   "version": "3.7.3"
  }
 },
 "nbformat": 4,
 "nbformat_minor": 2
}
